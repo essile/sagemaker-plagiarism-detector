{
 "cells": [
  {
   "cell_type": "markdown",
   "metadata": {},
   "source": [
    "# Plagiarism Detection Model\n",
    "\n",
    "Now that you've created training and test data, you are ready to define and train a model. Your goal in this notebook, will be to train a binary classification model that learns to label an answer file as either plagiarized or not, based on the features you provide the model.\n",
    "\n",
    "This task will be broken down into a few discrete steps:\n",
    "\n",
    "* Upload your data to S3.\n",
    "* Define a binary classification model and a training script.\n",
    "* Train your model and deploy it.\n",
    "* Evaluate your deployed classifier and answer some questions about your approach.\n",
    "\n",
    "To complete this notebook, you'll have to complete all given exercises and answer all the questions in this notebook.\n",
    "> All your tasks will be clearly labeled **EXERCISE** and questions as **QUESTION**.\n",
    "\n",
    "It will be up to you to explore different classification models and decide on a model that gives you the best performance for this dataset.\n",
    "\n",
    "---"
   ]
  },
  {
   "cell_type": "markdown",
   "metadata": {},
   "source": [
    "## Load Data to S3\n",
    "\n",
    "In the last notebook, you should have created two files: a `training.csv` and `test.csv` file with the features and class labels for the given corpus of plagiarized/non-plagiarized text data. \n",
    "\n",
    ">The below cells load in some AWS SageMaker libraries and creates a default bucket. After creating this bucket, you can upload your locally stored data to S3.\n",
    "\n",
    "Save your train and test `.csv` feature files, locally. To do this you can run the second notebook \"2_Plagiarism_Feature_Engineering\" in SageMaker or you can manually upload your files to this notebook using the upload icon in Jupyter Lab. Then you can upload local files to S3 by using `sagemaker_session.upload_data` and pointing directly to where the training data is saved."
   ]
  },
  {
   "cell_type": "code",
   "execution_count": 1,
   "metadata": {},
   "outputs": [],
   "source": [
    "import pandas as pd\n",
    "import boto3\n",
    "import sagemaker"
   ]
  },
  {
   "cell_type": "code",
   "execution_count": 2,
   "metadata": {},
   "outputs": [],
   "source": [
    "\"\"\"\n",
    "DON'T MODIFY ANYTHING IN THIS CELL THAT IS BELOW THIS LINE\n",
    "\"\"\"\n",
    "# session and role\n",
    "sagemaker_session = sagemaker.Session()\n",
    "role = sagemaker.get_execution_role()\n",
    "\n",
    "# create an S3 bucket\n",
    "bucket = sagemaker_session.default_bucket()"
   ]
  },
  {
   "cell_type": "markdown",
   "metadata": {},
   "source": [
    "## EXERCISE: Upload your training data to S3\n",
    "\n",
    "Specify the `data_dir` where you've saved your `train.csv` file. Decide on a descriptive `prefix` that defines where your data will be uploaded in the default S3 bucket. Finally, create a pointer to your training data by calling `sagemaker_session.upload_data` and passing in the required parameters. It may help to look at the [Session documentation](https://sagemaker.readthedocs.io/en/stable/session.html#sagemaker.session.Session.upload_data) or previous SageMaker code examples.\n",
    "\n",
    "You are expected to upload your entire directory. Later, the training script will only access the `train.csv` file."
   ]
  },
  {
   "cell_type": "code",
   "execution_count": 3,
   "metadata": {},
   "outputs": [],
   "source": [
    "# should be the name of directory you created to save your features data\n",
    "data_dir = 'plagiarism_data'\n",
    "\n",
    "# set prefix, a descriptive name for a directory  \n",
    "prefix = 'plagiarism_data'\n",
    "\n",
    "# upload all data to S3\n",
    "frankfurt_bucket = 'sagemaker-eu-central-1-285074209487'\n",
    "training_data = sagemaker_session.upload_data(path = data_dir, bucket = frankfurt_bucket, key_prefix = prefix)"
   ]
  },
  {
   "cell_type": "markdown",
   "metadata": {},
   "source": [
    "### Test cell\n",
    "\n",
    "Test that your data has been successfully uploaded. The below cell prints out the items in your S3 bucket and will throw an error if it is empty. You should see the contents of your `data_dir` and perhaps some checkpoints. If you see any other files listed, then you may have some old model files that you can delete via the S3 console (though, additional files shouldn't affect the performance of model developed in this notebook)."
   ]
  },
  {
   "cell_type": "code",
   "execution_count": 4,
   "metadata": {},
   "outputs": [
    {
     "name": "stdout",
     "output_type": "stream",
     "text": [
      "counties/kmeans-2020-04-05-06-00-38-885/output/model.tar.gz\n",
      "counties/pca-2020-04-01-16-46-40-322/output/model.tar.gz\n",
      "plagiarism_data/pytorch_model/pytorch-training-2020-04-10-12-30-25-310/debug-output/collections/000000000/worker_0_collections.json\n",
      "plagiarism_data/pytorch_model/pytorch-training-2020-04-10-12-30-25-310/debug-output/events/000000000000/000000000000_worker_0.tfevents\n",
      "plagiarism_data/pytorch_model/pytorch-training-2020-04-10-12-49-54-766/debug-output/collections/000000000/worker_0_collections.json\n",
      "plagiarism_data/pytorch_model/pytorch-training-2020-04-10-12-49-54-766/debug-output/events/000000000000/000000000000_worker_0.tfevents\n",
      "plagiarism_data/pytorch_model/pytorch-training-2020-04-10-14-07-43-374/debug-output/collections/000000000/worker_0_collections.json\n",
      "plagiarism_data/pytorch_model/pytorch-training-2020-04-10-14-07-43-374/debug-output/events/000000000000/000000000000_worker_0.tfevents\n",
      "plagiarism_data/pytorch_model/pytorch-training-2020-04-10-14-54-32-458/debug-output/collections/000000000/worker_0_collections.json\n",
      "plagiarism_data/pytorch_model/pytorch-training-2020-04-10-14-54-32-458/debug-output/events/000000000000/000000000000_worker_0.tfevents\n",
      "plagiarism_data/pytorch_model/pytorch-training-2020-04-10-15-02-10-110/debug-output/collections/000000000/worker_0_collections.json\n",
      "plagiarism_data/pytorch_model/pytorch-training-2020-04-10-15-02-10-110/debug-output/events/000000000000/000000000000_worker_0.tfevents\n",
      "plagiarism_data/pytorch_model/pytorch-training-2020-04-10-15-02-10-110/debug-output/index/000000000/000000000000_worker_0.json\n",
      "plagiarism_data/pytorch_model/pytorch-training-2020-04-10-15-02-10-110/debug-output/training_job_end.ts\n",
      "plagiarism_data/pytorch_model/pytorch-training-2020-04-10-15-02-10-110/output/model.tar.gz\n",
      "plagiarism_data/test.csv\n",
      "plagiarism_data/train.csv\n",
      "pytorch-training-2020-04-07-13-54-56-615/source/sourcedir.tar.gz\n",
      "pytorch-training-2020-04-07-14-58-50-498/source/sourcedir.tar.gz\n",
      "pytorch-training-2020-04-07-14-59-55-953/source/sourcedir.tar.gz\n",
      "pytorch-training-2020-04-07-15-00-23-769/source/sourcedir.tar.gz\n",
      "pytorch-training-2020-04-07-15-03-44-225/source/sourcedir.tar.gz\n",
      "pytorch-training-2020-04-07-15-17-46-923/source/sourcedir.tar.gz\n",
      "pytorch-training-2020-04-07-15-29-17-877/source/sourcedir.tar.gz\n",
      "pytorch-training-2020-04-07-15-40-36-577/source/sourcedir.tar.gz\n",
      "pytorch-training-2020-04-10-12-30-25-310/source/sourcedir.tar.gz\n",
      "pytorch-training-2020-04-10-12-49-54-766/source/sourcedir.tar.gz\n",
      "pytorch-training-2020-04-10-14-07-43-374/source/sourcedir.tar.gz\n",
      "pytorch-training-2020-04-10-14-54-32-458/source/sourcedir.tar.gz\n",
      "pytorch-training-2020-04-10-15-02-10-110/source/sourcedir.tar.gz\n",
      "sagemaker-pytorch-2020-04-10-15-43-31-690/sourcedir.tar.gz\n",
      "Test passed!\n"
     ]
    }
   ],
   "source": [
    "\"\"\"\n",
    "DON'T MODIFY ANYTHING IN THIS CELL THAT IS BELOW THIS LINE\n",
    "\"\"\"\n",
    "# confirm that data is in S3 bucket\n",
    "empty_check = []\n",
    "for obj in boto3.resource('s3').Bucket(bucket).objects.all():\n",
    "    empty_check.append(obj.key)\n",
    "    print(obj.key)\n",
    "\n",
    "assert len(empty_check) !=0, 'S3 bucket is empty.'\n",
    "print('Test passed!')"
   ]
  },
  {
   "cell_type": "markdown",
   "metadata": {},
   "source": [
    "---\n",
    "\n",
    "# Modeling\n",
    "\n",
    "Now that you've uploaded your training data, it's time to define and train a model!\n",
    "\n",
    "The type of model you create is up to you. For a binary classification task, you can choose to go one of three routes:\n",
    "* Use a built-in classification algorithm, like LinearLearner.\n",
    "* Define a custom Scikit-learn classifier, a comparison of models can be found [here](https://scikit-learn.org/stable/auto_examples/classification/plot_classifier_comparison.html).\n",
    "* Define a custom PyTorch neural network classifier. \n",
    "\n",
    "It will be up to you to test out a variety of models and choose the best one. Your project will be graded on the accuracy of your final model. \n",
    " \n",
    "---\n",
    "\n",
    "## EXERCISE: Complete a training script \n",
    "\n",
    "To implement a custom classifier, you'll need to complete a `train.py` script. You've been given the folders `source_sklearn` and `source_pytorch` which hold starting code for a custom Scikit-learn model and a PyTorch model, respectively. Each directory has a `train.py` training script. To complete this project **you only need to complete one of these scripts**; the script that is responsible for training your final model.\n",
    "\n",
    "A typical training script:\n",
    "* Loads training data from a specified directory\n",
    "* Parses any training & model hyperparameters (ex. nodes in a neural network, training epochs, etc.)\n",
    "* Instantiates a model of your design, with any specified hyperparams\n",
    "* Trains that model \n",
    "* Finally, saves the model so that it can be hosted/deployed, later\n",
    "\n",
    "### Defining and training a model\n",
    "Much of the training script code is provided for you. Almost all of your work will be done in the `if __name__ == '__main__':` section. To complete a `train.py` file, you will:\n",
    "1. Import any extra libraries you need\n",
    "2. Define any additional model training hyperparameters using `parser.add_argument`\n",
    "2. Define a model in the `if __name__ == '__main__':` section\n",
    "3. Train the model in that same section\n",
    "\n",
    "Below, you can use `!pygmentize` to display an existing `train.py` file. Read through the code; all of your tasks are marked with `TODO` comments. \n",
    "\n",
    "**Note: If you choose to create a custom PyTorch model, you will be responsible for defining the model in the `model.py` file,** and a `predict.py` file is provided. If you choose to use Scikit-learn, you only need a `train.py` file; you may import a classifier from the `sklearn` library."
   ]
  },
  {
   "cell_type": "code",
   "execution_count": 5,
   "metadata": {},
   "outputs": [],
   "source": [
    "# directory can be changed to: source_sklearn or source_pytorch\n",
    "#!pygmentize source_sklearn/train.py"
   ]
  },
  {
   "cell_type": "markdown",
   "metadata": {},
   "source": [
    "### Provided code\n",
    "\n",
    "If you read the code above, you can see that the starter code includes a few things:\n",
    "* Model loading (`model_fn`) and saving code\n",
    "* Getting SageMaker's default hyperparameters\n",
    "* Loading the training data by name, `train.csv` and extracting the features and labels, `train_x`, and `train_y`\n",
    "\n",
    "If you'd like to read more about model saving with [joblib for sklearn](https://scikit-learn.org/stable/modules/model_persistence.html) or with [torch.save](https://pytorch.org/tutorials/beginner/saving_loading_models.html), click on the provided links."
   ]
  },
  {
   "cell_type": "markdown",
   "metadata": {},
   "source": [
    "---\n",
    "# Create an Estimator\n",
    "\n",
    "When a custom model is constructed in SageMaker, an entry point must be specified. This is the Python file which will be executed when the model is trained; the `train.py` function you specified above. To run a custom training script in SageMaker, construct an estimator, and fill in the appropriate constructor arguments:\n",
    "\n",
    "* **entry_point**: The path to the Python script SageMaker runs for training and prediction.\n",
    "* **source_dir**: The path to the training script directory `source_sklearn` OR `source_pytorch`.\n",
    "* **entry_point**: The path to the Python script SageMaker runs for training and prediction.\n",
    "* **source_dir**: The path to the training script directory `train_sklearn` OR `train_pytorch`.\n",
    "* **entry_point**: The path to the Python script SageMaker runs for training.\n",
    "* **source_dir**: The path to the training script directory `train_sklearn` OR `train_pytorch`.\n",
    "* **role**: Role ARN, which was specified, above.\n",
    "* **train_instance_count**: The number of training instances (should be left at 1).\n",
    "* **train_instance_type**: The type of SageMaker instance for training. Note: Because Scikit-learn does not natively support GPU training, Sagemaker Scikit-learn does not currently support training on GPU instance types.\n",
    "* **sagemaker_session**: The session used to train on Sagemaker.\n",
    "* **hyperparameters** (optional): A dictionary `{'name':value, ..}` passed to the train function as hyperparameters.\n",
    "\n",
    "Note: For a PyTorch model, there is another optional argument **framework_version**, which you can set to the latest version of PyTorch, `1.0`.\n",
    "\n",
    "## EXERCISE: Define a Scikit-learn or PyTorch estimator\n",
    "\n",
    "To import your desired estimator, use one of the following lines:\n",
    "```\n",
    "from sagemaker.sklearn.estimator import SKLearn\n",
    "```\n",
    "```\n",
    "from sagemaker.pytorch import PyTorch\n",
    "```"
   ]
  },
  {
   "cell_type": "code",
   "execution_count": 6,
   "metadata": {},
   "outputs": [],
   "source": [
    "import os\n",
    "\n",
    "output_path = 's3://' + os.path.join(bucket, prefix, 'pytorch_model/')\n",
    "data_column_count = len(pd.read_csv(os.path.join(data_dir, 'train.csv'), header=None).columns.values)"
   ]
  },
  {
   "cell_type": "code",
   "execution_count": 7,
   "metadata": {},
   "outputs": [],
   "source": [
    "from sagemaker.pytorch import PyTorch\n",
    "\n",
    "# your import and estimator code, here\n",
    "\n",
    "estimator = PyTorch(entry_point='train.py', \n",
    "                    source_dir='source_pytorch/', \n",
    "                    train_instance_type='ml.p2.xlarge',\n",
    "                    train_instance_count=1,\n",
    "                    role=role,\n",
    "                    output_path=output_path,\n",
    "                    sagemaker_session=sagemaker_session,\n",
    "                    framework_version='1.3.1',\n",
    "                    hyperparameters = {\n",
    "                         'input_features': 3,\n",
    "                         'hidden_dim': 32,\n",
    "                         'output_dim': 1,\n",
    "                         'epochs': 100\n",
    "                     })"
   ]
  },
  {
   "cell_type": "markdown",
   "metadata": {},
   "source": [
    "## EXERCISE: Train the estimator\n",
    "\n",
    "Train your estimator on the training data stored in S3. This should create a training job that you can monitor in your SageMaker console."
   ]
  },
  {
   "cell_type": "code",
   "execution_count": 8,
   "metadata": {},
   "outputs": [
    {
     "name": "stdout",
     "output_type": "stream",
     "text": [
      "2020-04-10 16:00:34 Starting - Starting the training job...\n",
      "2020-04-10 16:00:36 Starting - Launching requested ML instances...\n",
      "2020-04-10 16:01:29 Starting - Preparing the instances for training.........\n",
      "2020-04-10 16:02:53 Downloading - Downloading input data\n",
      "2020-04-10 16:02:53 Training - Downloading the training image..............\u001b[34mbash: cannot set terminal process group (-1): Inappropriate ioctl for device\u001b[0m\n",
      "\u001b[34mbash: no job control in this shell\u001b[0m\n",
      "\u001b[34m2020-04-10 16:05:11,544 sagemaker-containers INFO     Imported framework sagemaker_pytorch_container.training\u001b[0m\n",
      "\u001b[34m2020-04-10 16:05:11,570 sagemaker_pytorch_container.training INFO     Block until all host DNS lookups succeed.\u001b[0m\n",
      "\u001b[34m2020-04-10 16:05:11,793 sagemaker_pytorch_container.training INFO     Invoking user training script.\u001b[0m\n",
      "\u001b[34m2020-04-10 16:05:12,025 sagemaker-containers INFO     Module default_user_module_name does not provide a setup.py. \u001b[0m\n",
      "\u001b[34mGenerating setup.py\u001b[0m\n",
      "\u001b[34m2020-04-10 16:05:12,026 sagemaker-containers INFO     Generating setup.cfg\u001b[0m\n",
      "\u001b[34m2020-04-10 16:05:12,026 sagemaker-containers INFO     Generating MANIFEST.in\u001b[0m\n",
      "\u001b[34m2020-04-10 16:05:12,026 sagemaker-containers INFO     Installing module with the following command:\u001b[0m\n",
      "\u001b[34m/opt/conda/bin/python -m pip install . \u001b[0m\n",
      "\u001b[34mProcessing /tmp/tmpidc_w3jh/module_dir\u001b[0m\n",
      "\u001b[34mBuilding wheels for collected packages: default-user-module-name\n",
      "  Building wheel for default-user-module-name (setup.py): started\n",
      "  Building wheel for default-user-module-name (setup.py): finished with status 'done'\n",
      "  Created wheel for default-user-module-name: filename=default_user_module_name-1.0.0-py2.py3-none-any.whl size=13024 sha256=dff09d78c7cc69274758d6e1fb9f9a91dab1606cbe569e18971d0397481f98eb\n",
      "  Stored in directory: /tmp/pip-ephem-wheel-cache-k2tbqgt_/wheels/84/f2/b9/dcb2149433d11c31442fab446dde8dfcb635f36783838e6462\u001b[0m\n",
      "\u001b[34mSuccessfully built default-user-module-name\u001b[0m\n",
      "\u001b[34mInstalling collected packages: default-user-module-name\u001b[0m\n",
      "\u001b[34mSuccessfully installed default-user-module-name-1.0.0\u001b[0m\n",
      "\u001b[34mWARNING: You are using pip version 20.0.1; however, version 20.0.2 is available.\u001b[0m\n",
      "\u001b[34mYou should consider upgrading via the '/opt/conda/bin/python -m pip install --upgrade pip' command.\u001b[0m\n",
      "\u001b[34m2020-04-10 16:05:14,196 sagemaker-containers INFO     Invoking user script\n",
      "\u001b[0m\n",
      "\u001b[34mTraining Env:\n",
      "\u001b[0m\n",
      "\u001b[34m{\n",
      "    \"additional_framework_parameters\": {},\n",
      "    \"channel_input_dirs\": {\n",
      "        \"train\": \"/opt/ml/input/data/train\"\n",
      "    },\n",
      "    \"current_host\": \"algo-1\",\n",
      "    \"framework_module\": \"sagemaker_pytorch_container.training:main\",\n",
      "    \"hosts\": [\n",
      "        \"algo-1\"\n",
      "    ],\n",
      "    \"hyperparameters\": {\n",
      "        \"hidden_dim\": 32,\n",
      "        \"input_features\": 3,\n",
      "        \"epochs\": 100,\n",
      "        \"output_dim\": 1\n",
      "    },\n",
      "    \"input_config_dir\": \"/opt/ml/input/config\",\n",
      "    \"input_data_config\": {\n",
      "        \"train\": {\n",
      "            \"TrainingInputMode\": \"File\",\n",
      "            \"S3DistributionType\": \"FullyReplicated\",\n",
      "            \"RecordWrapperType\": \"None\"\n",
      "        }\n",
      "    },\n",
      "    \"input_dir\": \"/opt/ml/input\",\n",
      "    \"is_master\": true,\n",
      "    \"job_name\": \"pytorch-training-2020-04-10-16-00-34-139\",\n",
      "    \"log_level\": 20,\n",
      "    \"master_hostname\": \"algo-1\",\n",
      "    \"model_dir\": \"/opt/ml/model\",\n",
      "    \"module_dir\": \"s3://sagemaker-eu-central-1-285074209487/pytorch-training-2020-04-10-16-00-34-139/source/sourcedir.tar.gz\",\n",
      "    \"module_name\": \"train\",\n",
      "    \"network_interface_name\": \"eth0\",\n",
      "    \"num_cpus\": 4,\n",
      "    \"num_gpus\": 1,\n",
      "    \"output_data_dir\": \"/opt/ml/output/data\",\n",
      "    \"output_dir\": \"/opt/ml/output\",\n",
      "    \"output_intermediate_dir\": \"/opt/ml/output/intermediate\",\n",
      "    \"resource_config\": {\n",
      "        \"current_host\": \"algo-1\",\n",
      "        \"hosts\": [\n",
      "            \"algo-1\"\n",
      "        ],\n",
      "        \"network_interface_name\": \"eth0\"\n",
      "    },\n",
      "    \"user_entry_point\": \"train.py\"\u001b[0m\n",
      "\u001b[34m}\n",
      "\u001b[0m\n",
      "\u001b[34mEnvironment variables:\n",
      "\u001b[0m\n",
      "\u001b[34mSM_HOSTS=[\"algo-1\"]\u001b[0m\n",
      "\u001b[34mSM_NETWORK_INTERFACE_NAME=eth0\u001b[0m\n",
      "\u001b[34mSM_HPS={\"epochs\":100,\"hidden_dim\":32,\"input_features\":3,\"output_dim\":1}\u001b[0m\n",
      "\u001b[34mSM_USER_ENTRY_POINT=train.py\u001b[0m\n",
      "\u001b[34mSM_FRAMEWORK_PARAMS={}\u001b[0m\n",
      "\u001b[34mSM_RESOURCE_CONFIG={\"current_host\":\"algo-1\",\"hosts\":[\"algo-1\"],\"network_interface_name\":\"eth0\"}\u001b[0m\n",
      "\u001b[34mSM_INPUT_DATA_CONFIG={\"train\":{\"RecordWrapperType\":\"None\",\"S3DistributionType\":\"FullyReplicated\",\"TrainingInputMode\":\"File\"}}\u001b[0m\n",
      "\u001b[34mSM_OUTPUT_DATA_DIR=/opt/ml/output/data\u001b[0m\n",
      "\u001b[34mSM_CHANNELS=[\"train\"]\u001b[0m\n",
      "\u001b[34mSM_CURRENT_HOST=algo-1\u001b[0m\n",
      "\u001b[34mSM_MODULE_NAME=train\u001b[0m\n",
      "\u001b[34mSM_LOG_LEVEL=20\u001b[0m\n",
      "\u001b[34mSM_FRAMEWORK_MODULE=sagemaker_pytorch_container.training:main\u001b[0m\n",
      "\u001b[34mSM_INPUT_DIR=/opt/ml/input\u001b[0m\n",
      "\u001b[34mSM_INPUT_CONFIG_DIR=/opt/ml/input/config\u001b[0m\n",
      "\u001b[34mSM_OUTPUT_DIR=/opt/ml/output\u001b[0m\n",
      "\u001b[34mSM_NUM_CPUS=4\u001b[0m\n",
      "\u001b[34mSM_NUM_GPUS=1\u001b[0m\n",
      "\u001b[34mSM_MODEL_DIR=/opt/ml/model\u001b[0m\n",
      "\u001b[34mSM_MODULE_DIR=s3://sagemaker-eu-central-1-285074209487/pytorch-training-2020-04-10-16-00-34-139/source/sourcedir.tar.gz\u001b[0m\n",
      "\u001b[34mSM_TRAINING_ENV={\"additional_framework_parameters\":{},\"channel_input_dirs\":{\"train\":\"/opt/ml/input/data/train\"},\"current_host\":\"algo-1\",\"framework_module\":\"sagemaker_pytorch_container.training:main\",\"hosts\":[\"algo-1\"],\"hyperparameters\":{\"epochs\":100,\"hidden_dim\":32,\"input_features\":3,\"output_dim\":1},\"input_config_dir\":\"/opt/ml/input/config\",\"input_data_config\":{\"train\":{\"RecordWrapperType\":\"None\",\"S3DistributionType\":\"FullyReplicated\",\"TrainingInputMode\":\"File\"}},\"input_dir\":\"/opt/ml/input\",\"is_master\":true,\"job_name\":\"pytorch-training-2020-04-10-16-00-34-139\",\"log_level\":20,\"master_hostname\":\"algo-1\",\"model_dir\":\"/opt/ml/model\",\"module_dir\":\"s3://sagemaker-eu-central-1-285074209487/pytorch-training-2020-04-10-16-00-34-139/source/sourcedir.tar.gz\",\"module_name\":\"train\",\"network_interface_name\":\"eth0\",\"num_cpus\":4,\"num_gpus\":1,\"output_data_dir\":\"/opt/ml/output/data\",\"output_dir\":\"/opt/ml/output\",\"output_intermediate_dir\":\"/opt/ml/output/intermediate\",\"resource_config\":{\"current_host\":\"algo-1\",\"hosts\":[\"algo-1\"],\"network_interface_name\":\"eth0\"},\"user_entry_point\":\"train.py\"}\u001b[0m\n",
      "\u001b[34mSM_USER_ARGS=[\"--epochs\",\"100\",\"--hidden_dim\",\"32\",\"--input_features\",\"3\",\"--output_dim\",\"1\"]\u001b[0m\n",
      "\u001b[34mSM_OUTPUT_INTERMEDIATE_DIR=/opt/ml/output/intermediate\u001b[0m\n",
      "\u001b[34mSM_CHANNEL_TRAIN=/opt/ml/input/data/train\u001b[0m\n",
      "\u001b[34mSM_HP_HIDDEN_DIM=32\u001b[0m\n",
      "\u001b[34mSM_HP_INPUT_FEATURES=3\u001b[0m\n",
      "\u001b[34mSM_HP_EPOCHS=100\u001b[0m\n",
      "\u001b[34mSM_HP_OUTPUT_DIM=1\u001b[0m\n",
      "\u001b[34mPYTHONPATH=/opt/ml/code:/opt/conda/bin:/opt/conda/lib/python36.zip:/opt/conda/lib/python3.6:/opt/conda/lib/python3.6/lib-dynload:/opt/conda/lib/python3.6/site-packages\n",
      "\u001b[0m\n",
      "\u001b[34mInvoking script with the following command:\n",
      "\u001b[0m\n",
      "\u001b[34m/opt/conda/bin/python train.py --epochs 100 --hidden_dim 32 --input_features 3 --output_dim 1\n",
      "\n",
      "\u001b[0m\n",
      "\u001b[34mUsing device cuda.\u001b[0m\n",
      "\u001b[34m/opt/conda/lib/python3.6/site-packages/torch/nn/functional.py:1351: UserWarning: nn.functional.sigmoid is deprecated. Use torch.sigmoid instead.\u001b[0m\n",
      "\u001b[34mGet train data loader.\n",
      "  warnings.warn(\"nn.functional.sigmoid is deprecated. Use torch.sigmoid instead.\")\u001b[0m\n",
      "\u001b[34m[2020-04-10 16:05:18.345 algo-1:42 INFO json_config.py:90] Creating hook from json_config at /opt/ml/input/config/debughookconfig.json.\u001b[0m\n",
      "\u001b[34m/opt/conda/lib/python3.6/site-packages/torch/nn/modules/loss.py:498: UserWarning: Using a target size (torch.Size([10])) that is different to the input size (torch.Size([10, 1])) is deprecated. Please ensure they have the same size.\u001b[0m\n",
      "\u001b[34m[2020-04-10 16:05:18.345 algo-1:42 INFO hook.py:152] tensorboard_dir has not been set for the hook. SMDebug will not be exporting tensorboard summaries.\n",
      "  return F.binary_cross_entropy(input, target, weight=self.weight, reduction=self.reduction)\u001b[0m\n",
      "\u001b[34m[2020-04-10 16:05:18.345 algo-1:42 INFO hook.py:197] Saving to /opt/ml/output/tensors\u001b[0m\n",
      "\n",
      "2020-04-10 16:05:29 Uploading - Uploading generated training model\n",
      "2020-04-10 16:05:29 Completed - Training job completed\n",
      "\u001b[34m[2020-04-10 16:05:18.356 algo-1:42 INFO hook.py:326] Monitoring the collections: losses\u001b[0m\n",
      "\u001b[34mEpoch: 1, Loss: 0.6854909062385559\u001b[0m\n",
      "\u001b[34mEpoch: 2, Loss: 0.6743900009563991\u001b[0m\n",
      "\u001b[34mEpoch: 3, Loss: 0.675811401435307\u001b[0m\n",
      "\u001b[34mEpoch: 4, Loss: 0.6669629812240601\u001b[0m\n",
      "\u001b[34mEpoch: 5, Loss: 0.648000316960471\u001b[0m\n",
      "\u001b[34mEpoch: 6, Loss: 0.6549747586250305\u001b[0m\n",
      "\u001b[34mEpoch: 7, Loss: 0.6392180919647217\u001b[0m\n",
      "\u001b[34mEpoch: 8, Loss: 0.6474750723157611\u001b[0m\n",
      "\u001b[34mEpoch: 9, Loss: 0.6223917348044259\u001b[0m\n",
      "\u001b[34mEpoch: 10, Loss: 0.6302403126444135\u001b[0m\n",
      "\u001b[34mEpoch: 11, Loss: 0.606928152697427\u001b[0m\n",
      "\u001b[34mEpoch: 12, Loss: 0.6360103487968445\u001b[0m\n",
      "\u001b[34mEpoch: 13, Loss: 0.632823143686567\u001b[0m\n",
      "\u001b[34mEpoch: 14, Loss: 0.6201620187078204\u001b[0m\n",
      "\u001b[34mEpoch: 15, Loss: 0.6072560378483364\u001b[0m\n",
      "\u001b[34mEpoch: 16, Loss: 0.6099746908460345\u001b[0m\n",
      "\u001b[34mEpoch: 17, Loss: 0.6008673991475787\u001b[0m\n",
      "\u001b[34mEpoch: 18, Loss: 0.6034307394708905\u001b[0m\n",
      "\u001b[34mEpoch: 19, Loss: 0.5962185433932713\u001b[0m\n",
      "\u001b[34mEpoch: 20, Loss: 0.6001207147325788\u001b[0m\n",
      "\u001b[34mEpoch: 21, Loss: 0.5993704710687909\u001b[0m\n",
      "\u001b[34mEpoch: 22, Loss: 0.5881616984094892\u001b[0m\n",
      "\u001b[34mEpoch: 23, Loss: 0.5864102968147823\u001b[0m\n",
      "\u001b[34mEpoch: 24, Loss: 0.5846601384026664\u001b[0m\n",
      "\u001b[34mEpoch: 25, Loss: 0.5519618775163379\u001b[0m\n",
      "\u001b[34mEpoch: 26, Loss: 0.5775552860328129\u001b[0m\n",
      "\u001b[34mEpoch: 27, Loss: 0.5534260060106005\u001b[0m\n",
      "\u001b[34mEpoch: 28, Loss: 0.570448270865849\u001b[0m\n",
      "\u001b[34mEpoch: 29, Loss: 0.5382277497223446\u001b[0m\n",
      "\u001b[34mEpoch: 30, Loss: 0.5554293010916028\u001b[0m\n",
      "\u001b[34mEpoch: 31, Loss: 0.5494845637253353\u001b[0m\n",
      "\u001b[34mEpoch: 32, Loss: 0.545626163482666\u001b[0m\n",
      "\u001b[34mEpoch: 33, Loss: 0.5441701071602958\u001b[0m\n",
      "\u001b[34mEpoch: 34, Loss: 0.5176111161708832\u001b[0m\n",
      "\u001b[34mEpoch: 35, Loss: 0.54292379958289\u001b[0m\n",
      "\u001b[34mEpoch: 36, Loss: 0.5363226320062365\u001b[0m\n",
      "\u001b[34mEpoch: 37, Loss: 0.5353938255991254\u001b[0m\n",
      "\u001b[34mEpoch: 38, Loss: 0.5367222470896584\u001b[0m\n",
      "\u001b[34mEpoch: 39, Loss: 0.5150822060448783\u001b[0m\n",
      "\u001b[34mEpoch: 40, Loss: 0.5254426300525665\u001b[0m\n",
      "\u001b[34mEpoch: 41, Loss: 0.5086278106485095\u001b[0m\n",
      "\u001b[34mEpoch: 42, Loss: 0.48825770190783907\u001b[0m\n",
      "\u001b[34mEpoch: 43, Loss: 0.49889435938426424\u001b[0m\n",
      "\u001b[34mEpoch: 44, Loss: 0.5120246878692082\u001b[0m\n",
      "\u001b[34mEpoch: 45, Loss: 0.4801326351506369\u001b[0m\n",
      "\u001b[34mEpoch: 46, Loss: 0.5024525054863521\u001b[0m\n",
      "\u001b[34mEpoch: 47, Loss: 0.49659208740506855\u001b[0m\n",
      "\u001b[34mEpoch: 48, Loss: 0.4821870837892805\u001b[0m\n",
      "\u001b[34mEpoch: 49, Loss: 0.48049809677260263\u001b[0m\n",
      "\u001b[34mEpoch: 50, Loss: 0.4854238288743155\u001b[0m\n",
      "\u001b[34mEpoch: 51, Loss: 0.49544353996004376\u001b[0m\n",
      "\u001b[34mEpoch: 52, Loss: 0.46474757364818026\u001b[0m\n",
      "\u001b[34mEpoch: 53, Loss: 0.4605785012245178\u001b[0m\n",
      "\u001b[34mEpoch: 54, Loss: 0.4685070003782\u001b[0m\n",
      "\u001b[34mEpoch: 55, Loss: 0.4597694490637098\u001b[0m\n",
      "\u001b[34mEpoch: 56, Loss: 0.4514872431755066\u001b[0m\n",
      "\u001b[34mEpoch: 57, Loss: 0.46140122413635254\u001b[0m\n",
      "\u001b[34mEpoch: 58, Loss: 0.42291361519268583\u001b[0m\n",
      "\u001b[34mEpoch: 59, Loss: 0.43265579853739056\u001b[0m\n",
      "\u001b[34mEpoch: 60, Loss: 0.44786242076328825\u001b[0m\n",
      "\u001b[34mEpoch: 61, Loss: 0.4243678535733904\u001b[0m\n",
      "\u001b[34mEpoch: 62, Loss: 0.4350953485284533\u001b[0m\n",
      "\u001b[34mEpoch: 63, Loss: 0.4365292957850865\u001b[0m\n",
      "\u001b[34mEpoch: 64, Loss: 0.42390094910349163\u001b[0m\n",
      "\u001b[34mEpoch: 65, Loss: 0.43559473327228\u001b[0m\n",
      "\u001b[34mEpoch: 66, Loss: 0.438450745173863\u001b[0m\n",
      "\u001b[34mEpoch: 67, Loss: 0.4241759862218584\u001b[0m\n",
      "\u001b[34mEpoch: 68, Loss: 0.42702602062906536\u001b[0m\n",
      "\u001b[34mEpoch: 69, Loss: 0.4243544169834682\u001b[0m\n",
      "\u001b[34mEpoch: 70, Loss: 0.4220182086740221\u001b[0m\n",
      "\u001b[34mEpoch: 71, Loss: 0.41263391290392193\u001b[0m\n",
      "\u001b[34mEpoch: 72, Loss: 0.421440098966871\u001b[0m\n",
      "\u001b[34mEpoch: 73, Loss: 0.4154315676007952\u001b[0m\n",
      "\u001b[34mEpoch: 74, Loss: 0.3988709534917559\u001b[0m\n",
      "\u001b[34mEpoch: 75, Loss: 0.40673659103257315\u001b[0m\n",
      "\u001b[34mEpoch: 76, Loss: 0.3918927993093218\u001b[0m\n",
      "\u001b[34mEpoch: 77, Loss: 0.3914520357336317\u001b[0m\n",
      "\u001b[34mEpoch: 78, Loss: 0.3800571390560695\u001b[0m\n",
      "\u001b[34mEpoch: 79, Loss: 0.4110691547393799\u001b[0m\n",
      "\u001b[34mEpoch: 80, Loss: 0.3848058453627995\u001b[0m\n",
      "\u001b[34mEpoch: 81, Loss: 0.3699906255517687\u001b[0m\n",
      "\u001b[34mEpoch: 82, Loss: 0.38406798243522644\u001b[0m\n",
      "\u001b[34mEpoch: 83, Loss: 0.38136970571109224\u001b[0m\n",
      "\u001b[34mEpoch: 84, Loss: 0.38738702876227243\u001b[0m\n",
      "\u001b[34mEpoch: 85, Loss: 0.36942448573453085\u001b[0m\n",
      "\u001b[34mEpoch: 86, Loss: 0.3837250364678247\u001b[0m\n",
      "\u001b[34mEpoch: 87, Loss: 0.38464892974921633\u001b[0m\n",
      "\u001b[34mEpoch: 88, Loss: 0.4035691108022417\u001b[0m\n",
      "\u001b[34mEpoch: 89, Loss: 0.3715891114303044\u001b[0m\n",
      "\u001b[34mEpoch: 90, Loss: 0.3595347447054727\u001b[0m\n",
      "\u001b[34mEpoch: 91, Loss: 0.3737662008830479\u001b[0m\n",
      "\u001b[34mEpoch: 92, Loss: 0.37130121886730194\u001b[0m\n",
      "\u001b[34mEpoch: 93, Loss: 0.3821031408650534\u001b[0m\n",
      "\u001b[34mEpoch: 94, Loss: 0.359871968626976\u001b[0m\n",
      "\u001b[34mEpoch: 95, Loss: 0.3392683097294399\u001b[0m\n",
      "\u001b[34mEpoch: 96, Loss: 0.352608859539032\u001b[0m\n",
      "\u001b[34mEpoch: 97, Loss: 0.3655040519578116\u001b[0m\n",
      "\u001b[34mEpoch: 98, Loss: 0.37188317094530376\u001b[0m\n",
      "\u001b[34mEpoch: 99, Loss: 0.3343048223427364\u001b[0m\n",
      "\u001b[34mEpoch: 100, Loss: 0.3549188843795231\u001b[0m\n",
      "\u001b[34m[2020-04-10 16:05:20.492 algo-1:42 INFO utils.py:25] The end of training job file will not be written for jobs running under SageMaker.\u001b[0m\n",
      "\u001b[34m2020-04-10 16:05:20,813 sagemaker-containers INFO     Reporting training SUCCESS\u001b[0m\n"
     ]
    },
    {
     "name": "stdout",
     "output_type": "stream",
     "text": [
      "Training seconds: 171\n",
      "Billable seconds: 171\n",
      "CPU times: user 653 ms, sys: 43.7 ms, total: 696 ms\n",
      "Wall time: 5min 12s\n"
     ]
    }
   ],
   "source": [
    "%%time\n",
    "\n",
    "# Train your estimator on S3 training data\n",
    "\n",
    "estimator.fit({'train': training_data})"
   ]
  },
  {
   "cell_type": "markdown",
   "metadata": {},
   "source": [
    "## EXERCISE: Deploy the trained model\n",
    "\n",
    "After training, deploy your model to create a `predictor`. If you're using a PyTorch model, you'll need to create a trained `PyTorchModel` that accepts the trained `<model>.model_data` as an input parameter and points to the provided `source_pytorch/predict.py` file as an entry point. \n",
    "\n",
    "To deploy a trained model, you'll use `<model>.deploy`, which takes in two arguments:\n",
    "* **initial_instance_count**: The number of deployed instances (1).\n",
    "* **instance_type**: The type of SageMaker instance for deployment.\n",
    "\n",
    "Note: If you run into an instance error, it may be because you chose the wrong training or deployment instance_type. It may help to refer to your previous exercise code to see which types of instances we used."
   ]
  },
  {
   "cell_type": "code",
   "execution_count": 9,
   "metadata": {},
   "outputs": [
    {
     "name": "stdout",
     "output_type": "stream",
     "text": [
      "-----------!CPU times: user 362 ms, sys: 13.4 ms, total: 376 ms\n",
      "Wall time: 5min 31s\n"
     ]
    }
   ],
   "source": [
    "%%time\n",
    "\n",
    "# uncomment, if needed\n",
    "from sagemaker.pytorch import PyTorchModel\n",
    "\n",
    "model = PyTorchModel(model_data=estimator.model_data,\n",
    "              role=role,\n",
    "              entry_point='predict.py',\n",
    "              source_dir='source_pytorch',\n",
    "              framework_version='1.0')\n",
    "\n",
    "# deploy your model to create a predictor\n",
    "predictor = model.deploy(instance_type='ml.t2.medium', initial_instance_count=1)\n"
   ]
  },
  {
   "cell_type": "markdown",
   "metadata": {},
   "source": [
    "---\n",
    "# Evaluating Your Model\n",
    "\n",
    "Once your model is deployed, you can see how it performs when applied to our test data.\n",
    "\n",
    "The provided cell below, reads in the test data, assuming it is stored locally in `data_dir` and named `test.csv`. The labels and features are extracted from the `.csv` file."
   ]
  },
  {
   "cell_type": "code",
   "execution_count": 10,
   "metadata": {},
   "outputs": [],
   "source": [
    "\"\"\"\n",
    "DON'T MODIFY ANYTHING IN THIS CELL THAT IS BELOW THIS LINE\n",
    "\"\"\"\n",
    "import os\n",
    "\n",
    "# read in test data, assuming it is stored locally\n",
    "test_data = pd.read_csv(os.path.join(data_dir, \"test.csv\"), header=None, names=None)\n",
    "\n",
    "# labels are in the first column\n",
    "test_y = test_data.iloc[:,0]\n",
    "test_x = test_data.iloc[:,1:]"
   ]
  },
  {
   "cell_type": "markdown",
   "metadata": {},
   "source": [
    "## EXERCISE: Determine the accuracy of your model\n",
    "\n",
    "Use your deployed `predictor` to generate predicted, class labels for the test data. Compare those to the *true* labels, `test_y`, and calculate the accuracy as a value between 0 and 1.0 that indicates the fraction of test data that your model classified correctly. You may use [sklearn.metrics](https://scikit-learn.org/stable/modules/classes.html#module-sklearn.metrics) for this calculation.\n",
    "\n",
    "**To pass this project, your model should get at least 90% test accuracy.**"
   ]
  },
  {
   "cell_type": "code",
   "execution_count": 11,
   "metadata": {},
   "outputs": [
    {
     "name": "stdout",
     "output_type": "stream",
     "text": [
      "Test passed!\n"
     ]
    }
   ],
   "source": [
    "# First: generate predicted, class labels\n",
    "test_y_preds = predictor.predict(test_x)\n",
    "\n",
    "\n",
    "\"\"\"\n",
    "DON'T MODIFY ANYTHING IN THIS CELL THAT IS BELOW THIS LINE\n",
    "\"\"\"\n",
    "# test that your model generates the correct number of labels\n",
    "assert len(test_y_preds)==len(test_y), 'Unexpected number of predictions.'\n",
    "print('Test passed!')"
   ]
  },
  {
   "cell_type": "code",
   "execution_count": 16,
   "metadata": {},
   "outputs": [
    {
     "name": "stdout",
     "output_type": "stream",
     "text": [
      "1.0\n",
      "\n",
      "Predicted class labels: \n",
      "[[1.]\n",
      " [1.]\n",
      " [1.]\n",
      " [1.]\n",
      " [1.]\n",
      " [1.]\n",
      " [0.]\n",
      " [0.]\n",
      " [0.]\n",
      " [0.]\n",
      " [0.]\n",
      " [0.]\n",
      " [1.]\n",
      " [1.]\n",
      " [1.]\n",
      " [1.]\n",
      " [1.]\n",
      " [1.]\n",
      " [0.]\n",
      " [1.]\n",
      " [0.]\n",
      " [1.]\n",
      " [1.]\n",
      " [0.]\n",
      " [0.]]\n",
      "\n",
      "True class labels: \n",
      "[1 1 1 1 1 1 0 0 0 0 0 0 1 1 1 1 1 1 0 1 0 1 1 0 0]\n"
     ]
    }
   ],
   "source": [
    "# Second: calculate the test accuracy\n",
    "\n",
    "from sklearn.metrics import accuracy_score\n",
    "\n",
    "accuracy = accuracy_score(test_y, test_y_preds)\n",
    "print(accuracy)\n",
    "\n",
    "## print out the array of predicted and true labels, if you want\n",
    "print('\\nPredicted class labels: ')\n",
    "print(test_y_preds)\n",
    "print('\\nTrue class labels: ')\n",
    "print(test_y.values)"
   ]
  },
  {
   "cell_type": "markdown",
   "metadata": {},
   "source": [
    "### Question 1: How many false positives and false negatives did your model produce, if any? And why do you think this is?"
   ]
  },
  {
   "cell_type": "markdown",
   "metadata": {},
   "source": [
    "My model did not produce any false negatives or positives. Despite of the dropout it may be overfitted since the model was pretty powerful compared to the amount of data.\n"
   ]
  },
  {
   "cell_type": "markdown",
   "metadata": {},
   "source": [
    "### Question 2: How did you decide on the type of model to use? "
   ]
  },
  {
   "cell_type": "markdown",
   "metadata": {},
   "source": [
    "I used Pytorch since I am more familiar with it and it usually provides good results when it comes to classification.\n"
   ]
  },
  {
   "cell_type": "markdown",
   "metadata": {},
   "source": [
    "----\n",
    "## EXERCISE: Clean up Resources\n",
    "\n",
    "After you're done evaluating your model, **delete your model endpoint**. You can do this with a call to `.delete_endpoint()`. You need to show, in this notebook, that the endpoint was deleted. Any other resources, you may delete from the AWS console, and you will find more instructions on cleaning up all your resources, below."
   ]
  },
  {
   "cell_type": "code",
   "execution_count": 20,
   "metadata": {
    "scrolled": true
   },
   "outputs": [],
   "source": [
    "# uncomment and fill in the line below!\n",
    "predictor.delete_endpoint()\n",
    "\n",
    "## I managed to double click here so made the execution text disappear."
   ]
  },
  {
   "cell_type": "markdown",
   "metadata": {},
   "source": [
    "### Deleting S3 bucket\n",
    "\n",
    "When you are *completely* done with training and testing models, you can also delete your entire S3 bucket. If you do this before you are done training your model, you'll have to recreate your S3 bucket and upload your training data again."
   ]
  },
  {
   "cell_type": "code",
   "execution_count": 21,
   "metadata": {},
   "outputs": [
    {
     "data": {
      "text/plain": [
       "[{'ResponseMetadata': {'RequestId': 'A2B60B6AE36CFED3',\n",
       "   'HostId': '0S3RfvfHBcxA7Y1S4nSHu2tPAXJSTpyiEaVhPerPa9wpxlw9OUjlwlxMrkchvuNlfbxEdMw/06c=',\n",
       "   'HTTPStatusCode': 200,\n",
       "   'HTTPHeaders': {'x-amz-id-2': '0S3RfvfHBcxA7Y1S4nSHu2tPAXJSTpyiEaVhPerPa9wpxlw9OUjlwlxMrkchvuNlfbxEdMw/06c=',\n",
       "    'x-amz-request-id': 'A2B60B6AE36CFED3',\n",
       "    'date': 'Fri, 10 Apr 2020 16:15:08 GMT',\n",
       "    'connection': 'close',\n",
       "    'content-type': 'application/xml',\n",
       "    'transfer-encoding': 'chunked',\n",
       "    'server': 'AmazonS3'},\n",
       "   'RetryAttempts': 0},\n",
       "  'Deleted': [{'Key': 'plagiarism_data/pytorch_model/pytorch-training-2020-04-10-15-02-10-110/debug-output/training_job_end.ts'},\n",
       "   {'Key': 'pytorch-training-2020-04-10-16-00-34-139/source/sourcedir.tar.gz'},\n",
       "   {'Key': 'plagiarism_data/pytorch_model/pytorch-training-2020-04-10-16-00-34-139/debug-output/index/000000000/000000000000_worker_0.json'},\n",
       "   {'Key': 'pytorch-training-2020-04-07-14-58-50-498/source/sourcedir.tar.gz'},\n",
       "   {'Key': 'plagiarism_data/pytorch_model/pytorch-training-2020-04-10-16-00-34-139/output/model.tar.gz'},\n",
       "   {'Key': 'plagiarism_data/test.csv'},\n",
       "   {'Key': 'pytorch-training-2020-04-10-12-30-25-310/source/sourcedir.tar.gz'},\n",
       "   {'Key': 'plagiarism_data/pytorch_model/pytorch-training-2020-04-10-14-07-43-374/debug-output/events/000000000000/000000000000_worker_0.tfevents'},\n",
       "   {'Key': 'plagiarism_data/pytorch_model/pytorch-training-2020-04-10-14-54-32-458/debug-output/collections/000000000/worker_0_collections.json'},\n",
       "   {'Key': 'plagiarism_data/pytorch_model/pytorch-training-2020-04-10-16-00-34-139/debug-output/collections/000000000/worker_0_collections.json'},\n",
       "   {'Key': 'plagiarism_data/pytorch_model/pytorch-training-2020-04-10-15-02-10-110/output/model.tar.gz'},\n",
       "   {'Key': 'pytorch-training-2020-04-10-14-54-32-458/source/sourcedir.tar.gz'},\n",
       "   {'Key': 'plagiarism_data/pytorch_model/pytorch-training-2020-04-10-12-30-25-310/debug-output/collections/000000000/worker_0_collections.json'},\n",
       "   {'Key': 'sagemaker-pytorch-2020-04-10-16-05-46-716/sourcedir.tar.gz'},\n",
       "   {'Key': 'plagiarism_data/pytorch_model/pytorch-training-2020-04-10-12-49-54-766/debug-output/events/000000000000/000000000000_worker_0.tfevents'},\n",
       "   {'Key': 'pytorch-training-2020-04-07-15-00-23-769/source/sourcedir.tar.gz'},\n",
       "   {'Key': 'plagiarism_data/pytorch_model/pytorch-training-2020-04-10-16-00-34-139/debug-output/index/000000000/000000000500_worker_0.json'},\n",
       "   {'Key': 'pytorch-training-2020-04-07-15-40-36-577/source/sourcedir.tar.gz'},\n",
       "   {'Key': 'plagiarism_data/pytorch_model/pytorch-training-2020-04-10-14-07-43-374/debug-output/collections/000000000/worker_0_collections.json'},\n",
       "   {'Key': 'plagiarism_data/pytorch_model/pytorch-training-2020-04-10-12-30-25-310/debug-output/events/000000000000/000000000000_worker_0.tfevents'},\n",
       "   {'Key': 'plagiarism_data/pytorch_model/pytorch-training-2020-04-10-15-02-10-110/debug-output/events/000000000000/000000000000_worker_0.tfevents'},\n",
       "   {'Key': 'pytorch-training-2020-04-07-15-29-17-877/source/sourcedir.tar.gz'},\n",
       "   {'Key': 'plagiarism_data/pytorch_model/pytorch-training-2020-04-10-15-02-10-110/debug-output/collections/000000000/worker_0_collections.json'},\n",
       "   {'Key': 'plagiarism_data/pytorch_model/pytorch-training-2020-04-10-16-00-34-139/debug-output/training_job_end.ts'},\n",
       "   {'Key': 'pytorch-training-2020-04-07-15-03-44-225/source/sourcedir.tar.gz'},\n",
       "   {'Key': 'plagiarism_data/pytorch_model/pytorch-training-2020-04-10-12-49-54-766/debug-output/collections/000000000/worker_0_collections.json'},\n",
       "   {'Key': 'plagiarism_data/pytorch_model/pytorch-training-2020-04-10-16-00-34-139/debug-output/events/000000000000/000000000000_worker_0.tfevents'},\n",
       "   {'Key': 'pytorch-training-2020-04-10-14-07-43-374/source/sourcedir.tar.gz'},\n",
       "   {'Key': 'plagiarism_data/train.csv'},\n",
       "   {'Key': 'sagemaker-pytorch-2020-04-10-15-43-31-690/sourcedir.tar.gz'},\n",
       "   {'Key': 'counties/pca-2020-04-01-16-46-40-322/output/model.tar.gz'},\n",
       "   {'Key': 'plagiarism_data/pytorch_model/pytorch-training-2020-04-10-15-02-10-110/debug-output/index/000000000/000000000000_worker_0.json'},\n",
       "   {'Key': 'pytorch-training-2020-04-07-14-59-55-953/source/sourcedir.tar.gz'},\n",
       "   {'Key': 'plagiarism_data/pytorch_model/pytorch-training-2020-04-10-16-00-34-139/debug-output/events/000000000500/000000000500_worker_0.tfevents'},\n",
       "   {'Key': 'pytorch-training-2020-04-07-15-17-46-923/source/sourcedir.tar.gz'},\n",
       "   {'Key': 'plagiarism_data/pytorch_model/pytorch-training-2020-04-10-14-54-32-458/debug-output/events/000000000000/000000000000_worker_0.tfevents'},\n",
       "   {'Key': 'counties/kmeans-2020-04-05-06-00-38-885/output/model.tar.gz'},\n",
       "   {'Key': 'pytorch-training-2020-04-07-13-54-56-615/source/sourcedir.tar.gz'},\n",
       "   {'Key': 'pytorch-training-2020-04-10-12-49-54-766/source/sourcedir.tar.gz'},\n",
       "   {'Key': 'pytorch-training-2020-04-10-15-02-10-110/source/sourcedir.tar.gz'}]}]"
      ]
     },
     "execution_count": 21,
     "metadata": {},
     "output_type": "execute_result"
    }
   ],
   "source": [
    "# deleting bucket, uncomment lines below\n",
    "\n",
    "bucket_to_delete = boto3.resource('s3').Bucket(bucket)\n",
    "bucket_to_delete.objects.all().delete()"
   ]
  },
  {
   "cell_type": "markdown",
   "metadata": {},
   "source": [
    "### Deleting all your models and instances\n",
    "\n",
    "When you are _completely_ done with this project and do **not** ever want to revisit this notebook, you can choose to delete all of your SageMaker notebook instances and models by following [these instructions](https://docs.aws.amazon.com/sagemaker/latest/dg/ex1-cleanup.html). Before you delete this notebook instance, I recommend at least downloading a copy and saving it, locally."
   ]
  },
  {
   "cell_type": "markdown",
   "metadata": {},
   "source": [
    "---\n",
    "## Further Directions\n",
    "\n",
    "There are many ways to improve or add on to this project to expand your learning or make this more of a unique project for you. A few ideas are listed below:\n",
    "* Train a classifier to predict the *category* (1-3) of plagiarism and not just plagiarized (1) or not (0).\n",
    "* Utilize a different and larger dataset to see if this model can be extended to other types of plagiarism.\n",
    "* Use language or character-level analysis to find different (and more) similarity features.\n",
    "* Write a complete pipeline function that accepts a source text and submitted text file, and classifies the submitted text as plagiarized or not.\n",
    "* Use API Gateway and a lambda function to deploy your model to a web application.\n",
    "\n",
    "These are all just options for extending your work. If you've completed all the exercises in this notebook, you've completed a real-world application, and can proceed to submit your project. Great job!"
   ]
  }
 ],
 "metadata": {
  "kernelspec": {
   "display_name": "conda_pytorch_p36",
   "language": "python",
   "name": "conda_pytorch_p36"
  },
  "language_info": {
   "codemirror_mode": {
    "name": "ipython",
    "version": 3
   },
   "file_extension": ".py",
   "mimetype": "text/x-python",
   "name": "python",
   "nbconvert_exporter": "python",
   "pygments_lexer": "ipython3",
   "version": "3.6.5"
  }
 },
 "nbformat": 4,
 "nbformat_minor": 2
}
